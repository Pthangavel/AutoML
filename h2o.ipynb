{
 "cells": [
  {
   "cell_type": "markdown",
   "metadata": {},
   "source": [
    "# h2o auto ml example- titanic data"
   ]
  },
  {
   "cell_type": "code",
   "execution_count": 1,
   "metadata": {},
   "outputs": [],
   "source": [
    "import numpy as np # linear algebra\n",
    "import pandas as pd # data processing, CSV file I/O (e.g. pd.read_csv)\n",
    "\n",
    "\n",
    "import os"
   ]
  },
  {
   "cell_type": "code",
   "execution_count": 3,
   "metadata": {},
   "outputs": [
    {
     "name": "stdout",
     "output_type": "stream",
     "text": [
      "['titanic_test.csv', 'submission.csv', 'titanic_train.csv']\n"
     ]
    }
   ],
   "source": [
    "# Input data files are available in the \"data/\" directory.\n",
    "print(os.listdir(\"data\"))\n",
    "\n",
    "# Any results you write to the current directory are saved as output."
   ]
  },
  {
   "cell_type": "code",
   "execution_count": 4,
   "metadata": {},
   "outputs": [],
   "source": [
    "#data cleaning and feature engineering \n",
    "def get_name_prefix(data):\n",
    "    prefix = pd.Series(np.ones(data.shape[0]), index=data.index)\n",
    "    data['Prefix'] = prefix\n",
    "    data.loc[data.Name.str.contains('Miss.', regex=False), 'Prefix'] = 2\n",
    "    data.loc[data.Name.str.contains('Mrs.', regex=False), 'Prefix'] = 3\n",
    "    data.loc[data.Name.str.contains('Mr.', regex=False), 'Prefix'] = 4"
   ]
  },
  {
   "cell_type": "code",
   "execution_count": 5,
   "metadata": {},
   "outputs": [],
   "source": [
    "# https://stackoverflow.com/a/42523230\n",
    "def one_hot(df, cols):\n",
    "    \"\"\"\n",
    "    @param df pandas DataFrame\n",
    "    @param cols a list of columns to encode \n",
    "    @return a DataFrame with one-hot encoding\n",
    "    \"\"\"\n",
    "    for each in cols:\n",
    "        dummies = pd.get_dummies(df[each], prefix=each, drop_first=False)\n",
    "        del df[each]\n",
    "        df = pd.concat([df, dummies], axis=1)\n",
    "    return df"
   ]
  },
  {
   "cell_type": "code",
   "execution_count": 6,
   "metadata": {},
   "outputs": [],
   "source": [
    "def normalize(df, mean, std):\n",
    "    \"\"\"\n",
    "    @param df pandas DataFrame\n",
    "    @param mean pandas Series of column values mean\n",
    "    @param std pandas Series of column values standard deviation\n",
    "    \"\"\"\n",
    "    for i in range(mean.size):\n",
    "        df[mean.index[i]] = (df[mean.index[i]] - mean[0]) / std[0] "
   ]
  },
  {
   "cell_type": "code",
   "execution_count": 7,
   "metadata": {},
   "outputs": [],
   "source": [
    "def process_data(data):\n",
    "    # get prefix data\n",
    "    get_name_prefix(data)\n",
    "    # remove name and ticket\n",
    "    data.drop(['Ticket', 'Name'], inplace=True, axis=1)\n",
    "    # sex\n",
    "    data.loc[data.Sex != 'male', 'Sex'] = 0;\n",
    "    data.loc[data.Sex == 'male', 'Sex'] = 1;\n",
    "    # cabin\n",
    "    data.Cabin.fillna('0', inplace=True)\n",
    "    data.loc[data.Cabin.str[0] == 'A', 'Cabin'] = 1\n",
    "    data.loc[data.Cabin.str[0] == 'B', 'Cabin'] = 2\n",
    "    data.loc[data.Cabin.str[0] == 'C', 'Cabin'] = 3\n",
    "    data.loc[data.Cabin.str[0] == 'D', 'Cabin'] = 4\n",
    "    data.loc[data.Cabin.str[0] == 'E', 'Cabin'] = 5\n",
    "    data.loc[data.Cabin.str[0] == 'F', 'Cabin'] = 6\n",
    "    data.loc[data.Cabin.str[0] == 'G', 'Cabin'] = 7\n",
    "    data.loc[data.Cabin.str[0] == 'T', 'Cabin'] = 8\n",
    "    # embarked\n",
    "    data.Embarked.fillna(0, inplace=True)\n",
    "    data.loc[data.Embarked == 'C', 'Embarked'] = 1\n",
    "    data.loc[data.Embarked == 'Q', 'Embarked'] = 2\n",
    "    data.loc[data.Embarked == 'S', 'Embarked'] = 3\n",
    "    data.fillna(-1, inplace=True)\n",
    "    \n",
    "    data = one_hot(data, ('Pclass', 'Sex', 'Cabin', 'Embarked', 'Prefix'))\n",
    "    return data.astype(float)"
   ]
  },
  {
   "cell_type": "code",
   "execution_count": 10,
   "metadata": {},
   "outputs": [],
   "source": [
    "#load data\n",
    "train_raw = pd.read_csv('data/titanic_train.csv')\n",
    "test_raw = pd.read_csv('data/titanic_test.csv')\n",
    "\n",
    "train = process_data(train_raw)\n",
    "test = process_data(test_raw)\n",
    "\n",
    "data_mean = train[['Age','Fare','SibSp','Parch']].mean(axis=0)\n",
    "data_std = train[['Age','Fare','SibSp','Parch']].std(axis=0)\n",
    "\n",
    "normalize(train, data_mean, data_std)\n",
    "normalize(test, data_mean, data_std)\n",
    "\n",
    "test, train = test.align(train, axis=1, fill_value=0)"
   ]
  },
  {
   "cell_type": "code",
   "execution_count": 12,
   "metadata": {
    "scrolled": true
   },
   "outputs": [
    {
     "data": {
      "text/html": [
       "<div>\n",
       "<style scoped>\n",
       "    .dataframe tbody tr th:only-of-type {\n",
       "        vertical-align: middle;\n",
       "    }\n",
       "\n",
       "    .dataframe tbody tr th {\n",
       "        vertical-align: top;\n",
       "    }\n",
       "\n",
       "    .dataframe thead th {\n",
       "        text-align: right;\n",
       "    }\n",
       "</style>\n",
       "<table border=\"1\" class=\"dataframe\">\n",
       "  <thead>\n",
       "    <tr style=\"text-align: right;\">\n",
       "      <th></th>\n",
       "      <th>Age</th>\n",
       "      <th>Cabin_0</th>\n",
       "      <th>Cabin_1</th>\n",
       "      <th>Cabin_2</th>\n",
       "      <th>Cabin_3</th>\n",
       "      <th>Cabin_4</th>\n",
       "      <th>Cabin_5</th>\n",
       "      <th>Cabin_6</th>\n",
       "      <th>Cabin_7</th>\n",
       "      <th>Cabin_8</th>\n",
       "      <th>...</th>\n",
       "      <th>Pclass_2</th>\n",
       "      <th>Pclass_3</th>\n",
       "      <th>Prefix_1.0</th>\n",
       "      <th>Prefix_2.0</th>\n",
       "      <th>Prefix_3.0</th>\n",
       "      <th>Prefix_4.0</th>\n",
       "      <th>Sex_0</th>\n",
       "      <th>Sex_1</th>\n",
       "      <th>SibSp</th>\n",
       "      <th>Survived</th>\n",
       "    </tr>\n",
       "  </thead>\n",
       "  <tbody>\n",
       "    <tr>\n",
       "      <th>0</th>\n",
       "      <td>0.610010</td>\n",
       "      <td>1.0</td>\n",
       "      <td>0.0</td>\n",
       "      <td>0.0</td>\n",
       "      <td>0.0</td>\n",
       "      <td>0.0</td>\n",
       "      <td>0.0</td>\n",
       "      <td>0.0</td>\n",
       "      <td>0.0</td>\n",
       "      <td>0</td>\n",
       "      <td>...</td>\n",
       "      <td>0.0</td>\n",
       "      <td>1.0</td>\n",
       "      <td>0.0</td>\n",
       "      <td>0.0</td>\n",
       "      <td>0.0</td>\n",
       "      <td>1.0</td>\n",
       "      <td>0.0</td>\n",
       "      <td>1.0</td>\n",
       "      <td>-1.320870</td>\n",
       "      <td>0</td>\n",
       "    </tr>\n",
       "    <tr>\n",
       "      <th>1</th>\n",
       "      <td>1.309605</td>\n",
       "      <td>1.0</td>\n",
       "      <td>0.0</td>\n",
       "      <td>0.0</td>\n",
       "      <td>0.0</td>\n",
       "      <td>0.0</td>\n",
       "      <td>0.0</td>\n",
       "      <td>0.0</td>\n",
       "      <td>0.0</td>\n",
       "      <td>0</td>\n",
       "      <td>...</td>\n",
       "      <td>0.0</td>\n",
       "      <td>1.0</td>\n",
       "      <td>0.0</td>\n",
       "      <td>0.0</td>\n",
       "      <td>1.0</td>\n",
       "      <td>0.0</td>\n",
       "      <td>1.0</td>\n",
       "      <td>0.0</td>\n",
       "      <td>-1.264902</td>\n",
       "      <td>0</td>\n",
       "    </tr>\n",
       "    <tr>\n",
       "      <th>2</th>\n",
       "      <td>2.149118</td>\n",
       "      <td>1.0</td>\n",
       "      <td>0.0</td>\n",
       "      <td>0.0</td>\n",
       "      <td>0.0</td>\n",
       "      <td>0.0</td>\n",
       "      <td>0.0</td>\n",
       "      <td>0.0</td>\n",
       "      <td>0.0</td>\n",
       "      <td>0</td>\n",
       "      <td>...</td>\n",
       "      <td>1.0</td>\n",
       "      <td>0.0</td>\n",
       "      <td>0.0</td>\n",
       "      <td>0.0</td>\n",
       "      <td>0.0</td>\n",
       "      <td>1.0</td>\n",
       "      <td>0.0</td>\n",
       "      <td>1.0</td>\n",
       "      <td>-1.320870</td>\n",
       "      <td>0</td>\n",
       "    </tr>\n",
       "    <tr>\n",
       "      <th>3</th>\n",
       "      <td>0.190254</td>\n",
       "      <td>1.0</td>\n",
       "      <td>0.0</td>\n",
       "      <td>0.0</td>\n",
       "      <td>0.0</td>\n",
       "      <td>0.0</td>\n",
       "      <td>0.0</td>\n",
       "      <td>0.0</td>\n",
       "      <td>0.0</td>\n",
       "      <td>0</td>\n",
       "      <td>...</td>\n",
       "      <td>0.0</td>\n",
       "      <td>1.0</td>\n",
       "      <td>0.0</td>\n",
       "      <td>0.0</td>\n",
       "      <td>0.0</td>\n",
       "      <td>1.0</td>\n",
       "      <td>0.0</td>\n",
       "      <td>1.0</td>\n",
       "      <td>-1.320870</td>\n",
       "      <td>0</td>\n",
       "    </tr>\n",
       "    <tr>\n",
       "      <th>4</th>\n",
       "      <td>-0.089584</td>\n",
       "      <td>1.0</td>\n",
       "      <td>0.0</td>\n",
       "      <td>0.0</td>\n",
       "      <td>0.0</td>\n",
       "      <td>0.0</td>\n",
       "      <td>0.0</td>\n",
       "      <td>0.0</td>\n",
       "      <td>0.0</td>\n",
       "      <td>0</td>\n",
       "      <td>...</td>\n",
       "      <td>0.0</td>\n",
       "      <td>1.0</td>\n",
       "      <td>0.0</td>\n",
       "      <td>0.0</td>\n",
       "      <td>1.0</td>\n",
       "      <td>0.0</td>\n",
       "      <td>1.0</td>\n",
       "      <td>0.0</td>\n",
       "      <td>-1.264902</td>\n",
       "      <td>0</td>\n",
       "    </tr>\n",
       "  </tbody>\n",
       "</table>\n",
       "<p>5 rows × 28 columns</p>\n",
       "</div>"
      ],
      "text/plain": [
       "        Age  Cabin_0  Cabin_1  Cabin_2  Cabin_3  Cabin_4  Cabin_5  Cabin_6  \\\n",
       "0  0.610010      1.0      0.0      0.0      0.0      0.0      0.0      0.0   \n",
       "1  1.309605      1.0      0.0      0.0      0.0      0.0      0.0      0.0   \n",
       "2  2.149118      1.0      0.0      0.0      0.0      0.0      0.0      0.0   \n",
       "3  0.190254      1.0      0.0      0.0      0.0      0.0      0.0      0.0   \n",
       "4 -0.089584      1.0      0.0      0.0      0.0      0.0      0.0      0.0   \n",
       "\n",
       "   Cabin_7  Cabin_8  ...  Pclass_2  Pclass_3  Prefix_1.0  Prefix_2.0  \\\n",
       "0      0.0        0  ...       0.0       1.0         0.0         0.0   \n",
       "1      0.0        0  ...       0.0       1.0         0.0         0.0   \n",
       "2      0.0        0  ...       1.0       0.0         0.0         0.0   \n",
       "3      0.0        0  ...       0.0       1.0         0.0         0.0   \n",
       "4      0.0        0  ...       0.0       1.0         0.0         0.0   \n",
       "\n",
       "   Prefix_3.0  Prefix_4.0  Sex_0  Sex_1     SibSp  Survived  \n",
       "0         0.0         1.0    0.0    1.0 -1.320870         0  \n",
       "1         1.0         0.0    1.0    0.0 -1.264902         0  \n",
       "2         0.0         1.0    0.0    1.0 -1.320870         0  \n",
       "3         0.0         1.0    0.0    1.0 -1.320870         0  \n",
       "4         1.0         0.0    1.0    0.0 -1.264902         0  \n",
       "\n",
       "[5 rows x 28 columns]"
      ]
     },
     "execution_count": 12,
     "metadata": {},
     "output_type": "execute_result"
    }
   ],
   "source": [
    "test.head()"
   ]
  },
  {
   "cell_type": "code",
   "execution_count": 13,
   "metadata": {},
   "outputs": [
    {
     "data": {
      "text/html": [
       "<div>\n",
       "<style scoped>\n",
       "    .dataframe tbody tr th:only-of-type {\n",
       "        vertical-align: middle;\n",
       "    }\n",
       "\n",
       "    .dataframe tbody tr th {\n",
       "        vertical-align: top;\n",
       "    }\n",
       "\n",
       "    .dataframe thead th {\n",
       "        text-align: right;\n",
       "    }\n",
       "</style>\n",
       "<table border=\"1\" class=\"dataframe\">\n",
       "  <thead>\n",
       "    <tr style=\"text-align: right;\">\n",
       "      <th></th>\n",
       "      <th>Age</th>\n",
       "      <th>Cabin_0</th>\n",
       "      <th>Cabin_1</th>\n",
       "      <th>Cabin_2</th>\n",
       "      <th>Cabin_3</th>\n",
       "      <th>Cabin_4</th>\n",
       "      <th>Cabin_5</th>\n",
       "      <th>Cabin_6</th>\n",
       "      <th>Cabin_7</th>\n",
       "      <th>Cabin_8</th>\n",
       "      <th>...</th>\n",
       "      <th>Pclass_2</th>\n",
       "      <th>Pclass_3</th>\n",
       "      <th>Prefix_1.0</th>\n",
       "      <th>Prefix_2.0</th>\n",
       "      <th>Prefix_3.0</th>\n",
       "      <th>Prefix_4.0</th>\n",
       "      <th>Sex_0</th>\n",
       "      <th>Sex_1</th>\n",
       "      <th>SibSp</th>\n",
       "      <th>Survived</th>\n",
       "    </tr>\n",
       "  </thead>\n",
       "  <tbody>\n",
       "    <tr>\n",
       "      <th>0</th>\n",
       "      <td>-0.089584</td>\n",
       "      <td>1.0</td>\n",
       "      <td>0.0</td>\n",
       "      <td>0.0</td>\n",
       "      <td>0.0</td>\n",
       "      <td>0.0</td>\n",
       "      <td>0.0</td>\n",
       "      <td>0.0</td>\n",
       "      <td>0.0</td>\n",
       "      <td>0.0</td>\n",
       "      <td>...</td>\n",
       "      <td>0.0</td>\n",
       "      <td>1.0</td>\n",
       "      <td>0.0</td>\n",
       "      <td>0.0</td>\n",
       "      <td>0.0</td>\n",
       "      <td>1.0</td>\n",
       "      <td>0.0</td>\n",
       "      <td>1.0</td>\n",
       "      <td>-1.264902</td>\n",
       "      <td>0.0</td>\n",
       "    </tr>\n",
       "    <tr>\n",
       "      <th>1</th>\n",
       "      <td>0.805897</td>\n",
       "      <td>0.0</td>\n",
       "      <td>0.0</td>\n",
       "      <td>0.0</td>\n",
       "      <td>1.0</td>\n",
       "      <td>0.0</td>\n",
       "      <td>0.0</td>\n",
       "      <td>0.0</td>\n",
       "      <td>0.0</td>\n",
       "      <td>0.0</td>\n",
       "      <td>...</td>\n",
       "      <td>0.0</td>\n",
       "      <td>0.0</td>\n",
       "      <td>0.0</td>\n",
       "      <td>0.0</td>\n",
       "      <td>1.0</td>\n",
       "      <td>0.0</td>\n",
       "      <td>1.0</td>\n",
       "      <td>0.0</td>\n",
       "      <td>-1.264902</td>\n",
       "      <td>1.0</td>\n",
       "    </tr>\n",
       "    <tr>\n",
       "      <th>2</th>\n",
       "      <td>0.134286</td>\n",
       "      <td>1.0</td>\n",
       "      <td>0.0</td>\n",
       "      <td>0.0</td>\n",
       "      <td>0.0</td>\n",
       "      <td>0.0</td>\n",
       "      <td>0.0</td>\n",
       "      <td>0.0</td>\n",
       "      <td>0.0</td>\n",
       "      <td>0.0</td>\n",
       "      <td>...</td>\n",
       "      <td>0.0</td>\n",
       "      <td>1.0</td>\n",
       "      <td>0.0</td>\n",
       "      <td>1.0</td>\n",
       "      <td>0.0</td>\n",
       "      <td>0.0</td>\n",
       "      <td>1.0</td>\n",
       "      <td>0.0</td>\n",
       "      <td>-1.320870</td>\n",
       "      <td>1.0</td>\n",
       "    </tr>\n",
       "    <tr>\n",
       "      <th>3</th>\n",
       "      <td>0.637994</td>\n",
       "      <td>0.0</td>\n",
       "      <td>0.0</td>\n",
       "      <td>0.0</td>\n",
       "      <td>1.0</td>\n",
       "      <td>0.0</td>\n",
       "      <td>0.0</td>\n",
       "      <td>0.0</td>\n",
       "      <td>0.0</td>\n",
       "      <td>0.0</td>\n",
       "      <td>...</td>\n",
       "      <td>0.0</td>\n",
       "      <td>0.0</td>\n",
       "      <td>0.0</td>\n",
       "      <td>0.0</td>\n",
       "      <td>1.0</td>\n",
       "      <td>0.0</td>\n",
       "      <td>1.0</td>\n",
       "      <td>0.0</td>\n",
       "      <td>-1.264902</td>\n",
       "      <td>1.0</td>\n",
       "    </tr>\n",
       "    <tr>\n",
       "      <th>4</th>\n",
       "      <td>0.637994</td>\n",
       "      <td>1.0</td>\n",
       "      <td>0.0</td>\n",
       "      <td>0.0</td>\n",
       "      <td>0.0</td>\n",
       "      <td>0.0</td>\n",
       "      <td>0.0</td>\n",
       "      <td>0.0</td>\n",
       "      <td>0.0</td>\n",
       "      <td>0.0</td>\n",
       "      <td>...</td>\n",
       "      <td>0.0</td>\n",
       "      <td>1.0</td>\n",
       "      <td>0.0</td>\n",
       "      <td>0.0</td>\n",
       "      <td>0.0</td>\n",
       "      <td>1.0</td>\n",
       "      <td>0.0</td>\n",
       "      <td>1.0</td>\n",
       "      <td>-1.320870</td>\n",
       "      <td>0.0</td>\n",
       "    </tr>\n",
       "  </tbody>\n",
       "</table>\n",
       "<p>5 rows × 28 columns</p>\n",
       "</div>"
      ],
      "text/plain": [
       "        Age  Cabin_0  Cabin_1  Cabin_2  Cabin_3  Cabin_4  Cabin_5  Cabin_6  \\\n",
       "0 -0.089584      1.0      0.0      0.0      0.0      0.0      0.0      0.0   \n",
       "1  0.805897      0.0      0.0      0.0      1.0      0.0      0.0      0.0   \n",
       "2  0.134286      1.0      0.0      0.0      0.0      0.0      0.0      0.0   \n",
       "3  0.637994      0.0      0.0      0.0      1.0      0.0      0.0      0.0   \n",
       "4  0.637994      1.0      0.0      0.0      0.0      0.0      0.0      0.0   \n",
       "\n",
       "   Cabin_7  Cabin_8  ...  Pclass_2  Pclass_3  Prefix_1.0  Prefix_2.0  \\\n",
       "0      0.0      0.0  ...       0.0       1.0         0.0         0.0   \n",
       "1      0.0      0.0  ...       0.0       0.0         0.0         0.0   \n",
       "2      0.0      0.0  ...       0.0       1.0         0.0         1.0   \n",
       "3      0.0      0.0  ...       0.0       0.0         0.0         0.0   \n",
       "4      0.0      0.0  ...       0.0       1.0         0.0         0.0   \n",
       "\n",
       "   Prefix_3.0  Prefix_4.0  Sex_0  Sex_1     SibSp  Survived  \n",
       "0         0.0         1.0    0.0    1.0 -1.264902       0.0  \n",
       "1         1.0         0.0    1.0    0.0 -1.264902       1.0  \n",
       "2         0.0         0.0    1.0    0.0 -1.320870       1.0  \n",
       "3         1.0         0.0    1.0    0.0 -1.264902       1.0  \n",
       "4         0.0         1.0    0.0    1.0 -1.320870       0.0  \n",
       "\n",
       "[5 rows x 28 columns]"
      ]
     },
     "execution_count": 13,
     "metadata": {},
     "output_type": "execute_result"
    }
   ],
   "source": [
    "train.head()"
   ]
  },
  {
   "cell_type": "code",
   "execution_count": 14,
   "metadata": {},
   "outputs": [
    {
     "name": "stdout",
     "output_type": "stream",
     "text": [
      "Checking whether there is an H2O instance running at http://localhost:54321. connected.\n"
     ]
    },
    {
     "data": {
      "text/html": [
       "<div style=\"overflow:auto\"><table style=\"width:50%\"><tr><td>H2O cluster uptime:</td>\n",
       "<td>7 mins 45 secs</td></tr>\n",
       "<tr><td>H2O cluster timezone:</td>\n",
       "<td>Asia/Kolkata</td></tr>\n",
       "<tr><td>H2O data parsing timezone:</td>\n",
       "<td>UTC</td></tr>\n",
       "<tr><td>H2O cluster version:</td>\n",
       "<td>3.22.1.3</td></tr>\n",
       "<tr><td>H2O cluster version age:</td>\n",
       "<td>11 days </td></tr>\n",
       "<tr><td>H2O cluster name:</td>\n",
       "<td>H2O_from_python_nishantgautam_prr15k</td></tr>\n",
       "<tr><td>H2O cluster total nodes:</td>\n",
       "<td>1</td></tr>\n",
       "<tr><td>H2O cluster free memory:</td>\n",
       "<td>3.844 Gb</td></tr>\n",
       "<tr><td>H2O cluster total cores:</td>\n",
       "<td>12</td></tr>\n",
       "<tr><td>H2O cluster allowed cores:</td>\n",
       "<td>12</td></tr>\n",
       "<tr><td>H2O cluster status:</td>\n",
       "<td>locked, healthy</td></tr>\n",
       "<tr><td>H2O connection url:</td>\n",
       "<td>http://localhost:54321</td></tr>\n",
       "<tr><td>H2O connection proxy:</td>\n",
       "<td>None</td></tr>\n",
       "<tr><td>H2O internal security:</td>\n",
       "<td>False</td></tr>\n",
       "<tr><td>H2O API Extensions:</td>\n",
       "<td>XGBoost, Algos, AutoML, Core V3, Core V4</td></tr>\n",
       "<tr><td>Python version:</td>\n",
       "<td>3.6.7 final</td></tr></table></div>"
      ],
      "text/plain": [
       "--------------------------  ----------------------------------------\n",
       "H2O cluster uptime:         7 mins 45 secs\n",
       "H2O cluster timezone:       Asia/Kolkata\n",
       "H2O data parsing timezone:  UTC\n",
       "H2O cluster version:        3.22.1.3\n",
       "H2O cluster version age:    11 days\n",
       "H2O cluster name:           H2O_from_python_nishantgautam_prr15k\n",
       "H2O cluster total nodes:    1\n",
       "H2O cluster free memory:    3.844 Gb\n",
       "H2O cluster total cores:    12\n",
       "H2O cluster allowed cores:  12\n",
       "H2O cluster status:         locked, healthy\n",
       "H2O connection url:         http://localhost:54321\n",
       "H2O connection proxy:\n",
       "H2O internal security:      False\n",
       "H2O API Extensions:         XGBoost, Algos, AutoML, Core V3, Core V4\n",
       "Python version:             3.6.7 final\n",
       "--------------------------  ----------------------------------------"
      ]
     },
     "metadata": {},
     "output_type": "display_data"
    }
   ],
   "source": [
    "#start H2O \n",
    "import h2o\n",
    "from h2o.automl import H2OAutoML\n",
    "\n",
    "h2o.init()"
   ]
  },
  {
   "cell_type": "code",
   "execution_count": 15,
   "metadata": {},
   "outputs": [
    {
     "name": "stdout",
     "output_type": "stream",
     "text": [
      "Parse progress: |█████████████████████████████████████████████████████████| 100%\n",
      "Parse progress: |█████████████████████████████████████████████████████████| 100%\n"
     ]
    }
   ],
   "source": [
    "#load data as h2o frames\n",
    "train = h2o.H2OFrame(train)\n",
    "test = h2o.H2OFrame(test)"
   ]
  },
  {
   "cell_type": "code",
   "execution_count": 16,
   "metadata": {},
   "outputs": [],
   "source": [
    "#drop passengerId from data set\n",
    "passId = test['PassengerId']\n",
    "train = train.drop('PassengerId',axis =1)\n",
    "test = test.drop('PassengerId',axis =1)"
   ]
  },
  {
   "cell_type": "code",
   "execution_count": 17,
   "metadata": {},
   "outputs": [],
   "source": [
    "#identify predictors and labels\n",
    "x = train.columns\n",
    "y = 'Survived'\n",
    "x.remove(y)\n",
    "\n",
    "#for binary classification, lables should be a factor\n",
    "train[y] = train[y].asfactor()"
   ]
  },
  {
   "cell_type": "code",
   "execution_count": 21,
   "metadata": {},
   "outputs": [
    {
     "name": "stdout",
     "output_type": "stream",
     "text": [
      "AutoML progress: |████████████████████████████████████████████████████████| 100%\n"
     ]
    }
   ],
   "source": [
    "# Run AutoML\n",
    "aml_ti = H2OAutoML(max_runtime_secs= 120,max_models= 10, seed= 7,nfolds= 10)\n",
    "aml_ti.train(x = x, y = y,\n",
    "          training_frame = train)"
   ]
  },
  {
   "cell_type": "code",
   "execution_count": 25,
   "metadata": {},
   "outputs": [
    {
     "data": {
      "text/html": [
       "<table>\n",
       "<thead>\n",
       "<tr><th>model_id                                 </th><th style=\"text-align: right;\">     auc</th><th style=\"text-align: right;\">  logloss</th><th style=\"text-align: right;\">  mean_per_class_error</th><th style=\"text-align: right;\">    rmse</th><th style=\"text-align: right;\">     mse</th></tr>\n",
       "</thead>\n",
       "<tbody>\n",
       "<tr><td>XGBoost_2_AutoML_20190206_094457         </td><td style=\"text-align: right;\">0.872892</td><td style=\"text-align: right;\"> 0.417868</td><td style=\"text-align: right;\">              0.178291</td><td style=\"text-align: right;\">0.360345</td><td style=\"text-align: right;\">0.129849</td></tr>\n",
       "<tr><td>GBM_1_AutoML_20190206_094457             </td><td style=\"text-align: right;\">0.872032</td><td style=\"text-align: right;\"> 0.413346</td><td style=\"text-align: right;\">              0.179968</td><td style=\"text-align: right;\">0.356766</td><td style=\"text-align: right;\">0.127282</td></tr>\n",
       "<tr><td>XGBoost_1_AutoML_20190206_094421         </td><td style=\"text-align: right;\">0.871726</td><td style=\"text-align: right;\"> 0.408789</td><td style=\"text-align: right;\">              0.178099</td><td style=\"text-align: right;\">0.354974</td><td style=\"text-align: right;\">0.126007</td></tr>\n",
       "<tr><td>XGBoost_1_AutoML_20190206_094457         </td><td style=\"text-align: right;\">0.871726</td><td style=\"text-align: right;\"> 0.408789</td><td style=\"text-align: right;\">              0.178099</td><td style=\"text-align: right;\">0.354974</td><td style=\"text-align: right;\">0.126007</td></tr>\n",
       "<tr><td>GBM_4_AutoML_20190206_094457             </td><td style=\"text-align: right;\">0.867606</td><td style=\"text-align: right;\"> 0.418072</td><td style=\"text-align: right;\">              0.178027</td><td style=\"text-align: right;\">0.356861</td><td style=\"text-align: right;\">0.12735 </td></tr>\n",
       "<tr><td>GBM_2_AutoML_20190206_094457             </td><td style=\"text-align: right;\">0.867108</td><td style=\"text-align: right;\"> 0.41623 </td><td style=\"text-align: right;\">              0.180376</td><td style=\"text-align: right;\">0.35647 </td><td style=\"text-align: right;\">0.127071</td></tr>\n",
       "<tr><td>XGBoost_3_AutoML_20190206_094457         </td><td style=\"text-align: right;\">0.865297</td><td style=\"text-align: right;\"> 0.432741</td><td style=\"text-align: right;\">              0.198495</td><td style=\"text-align: right;\">0.368463</td><td style=\"text-align: right;\">0.135765</td></tr>\n",
       "<tr><td>GBM_3_AutoML_20190206_094457             </td><td style=\"text-align: right;\">0.865223</td><td style=\"text-align: right;\"> 0.420427</td><td style=\"text-align: right;\">              0.177644</td><td style=\"text-align: right;\">0.357952</td><td style=\"text-align: right;\">0.128129</td></tr>\n",
       "<tr><td>GLM_grid_1_AutoML_20190206_094421_model_1</td><td style=\"text-align: right;\">0.856344</td><td style=\"text-align: right;\"> 0.442253</td><td style=\"text-align: right;\">              0.202449</td><td style=\"text-align: right;\">0.373309</td><td style=\"text-align: right;\">0.13936 </td></tr>\n",
       "<tr><td>GLM_grid_1_AutoML_20190206_094457_model_1</td><td style=\"text-align: right;\">0.856344</td><td style=\"text-align: right;\"> 0.442253</td><td style=\"text-align: right;\">              0.202449</td><td style=\"text-align: right;\">0.373309</td><td style=\"text-align: right;\">0.13936 </td></tr>\n",
       "</tbody>\n",
       "</table>"
      ]
     },
     "metadata": {},
     "output_type": "display_data"
    },
    {
     "data": {
      "text/plain": []
     },
     "execution_count": 25,
     "metadata": {},
     "output_type": "execute_result"
    }
   ],
   "source": [
    "aml_ti.leaderboard"
   ]
  },
  {
   "cell_type": "code",
   "execution_count": 26,
   "metadata": {},
   "outputs": [
    {
     "name": "stdout",
     "output_type": "stream",
     "text": [
      "xgboost prediction progress: |████████████████████████████████████████████| 100%\n"
     ]
    },
    {
     "data": {
      "text/html": [
       "<table>\n",
       "<thead>\n",
       "<tr><th style=\"text-align: right;\">  predict</th><th style=\"text-align: right;\">      p0</th><th style=\"text-align: right;\">       p1</th></tr>\n",
       "</thead>\n",
       "<tbody>\n",
       "<tr><td style=\"text-align: right;\">        0</td><td style=\"text-align: right;\">0.86949 </td><td style=\"text-align: right;\">0.13051  </td></tr>\n",
       "<tr><td style=\"text-align: right;\">        0</td><td style=\"text-align: right;\">0.554862</td><td style=\"text-align: right;\">0.445138 </td></tr>\n",
       "<tr><td style=\"text-align: right;\">        0</td><td style=\"text-align: right;\">0.889299</td><td style=\"text-align: right;\">0.110701 </td></tr>\n",
       "<tr><td style=\"text-align: right;\">        0</td><td style=\"text-align: right;\">0.812071</td><td style=\"text-align: right;\">0.187929 </td></tr>\n",
       "<tr><td style=\"text-align: right;\">        1</td><td style=\"text-align: right;\">0.458133</td><td style=\"text-align: right;\">0.541867 </td></tr>\n",
       "<tr><td style=\"text-align: right;\">        0</td><td style=\"text-align: right;\">0.872917</td><td style=\"text-align: right;\">0.127083 </td></tr>\n",
       "<tr><td style=\"text-align: right;\">        1</td><td style=\"text-align: right;\">0.441523</td><td style=\"text-align: right;\">0.558477 </td></tr>\n",
       "<tr><td style=\"text-align: right;\">        0</td><td style=\"text-align: right;\">0.824695</td><td style=\"text-align: right;\">0.175305 </td></tr>\n",
       "<tr><td style=\"text-align: right;\">        1</td><td style=\"text-align: right;\">0.265742</td><td style=\"text-align: right;\">0.734258 </td></tr>\n",
       "<tr><td style=\"text-align: right;\">        0</td><td style=\"text-align: right;\">0.907703</td><td style=\"text-align: right;\">0.0922972</td></tr>\n",
       "</tbody>\n",
       "</table>"
      ]
     },
     "metadata": {},
     "output_type": "display_data"
    },
    {
     "data": {
      "text/plain": []
     },
     "execution_count": 26,
     "metadata": {},
     "output_type": "execute_result"
    }
   ],
   "source": [
    "aml_ti.leader.predict(test)"
   ]
  },
  {
   "cell_type": "code",
   "execution_count": 23,
   "metadata": {},
   "outputs": [
    {
     "name": "stdout",
     "output_type": "stream",
     "text": [
      "xgboost prediction progress: |████████████████████████████████████████████| 100%\n"
     ]
    }
   ],
   "source": [
    "#check the leaderboard\n",
    "lb_ti = aml_ti.leaderboard\n",
    "lb_ti\n",
    "\n",
    "#prediction\n",
    "pred = aml_ti.leader.predict(test)\n",
    "\n",
    "#save predict results to submission form\n",
    "pred_df = pred.as_data_frame()\n",
    "pred_res = pred_df.predict\n",
    "passId_df = passId.as_data_frame()\n",
    "res_ti = pd.concat([passId_df,pred_res],axis=1,ignore_index = True)\n",
    "res_ti.columns = ['PassengerId','Survived']\n",
    "res_ti.to_csv('mypred.csv',index=False)\n",
    "\n",
    "#http://docs.h2o.ai/h2o/latest-stable/h2o-docs/automl.html"
   ]
  }
 ],
 "metadata": {
  "kernelspec": {
   "display_name": "Python 3",
   "language": "python",
   "name": "python3"
  },
  "language_info": {
   "codemirror_mode": {
    "name": "ipython",
    "version": 3
   },
   "file_extension": ".py",
   "mimetype": "text/x-python",
   "name": "python",
   "nbconvert_exporter": "python",
   "pygments_lexer": "ipython3",
   "version": "3.6.7"
  }
 },
 "nbformat": 4,
 "nbformat_minor": 2
}
